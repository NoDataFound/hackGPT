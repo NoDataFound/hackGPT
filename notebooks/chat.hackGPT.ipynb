{
 "cells": [
  {
   "attachments": {},
   "cell_type": "markdown",
   "metadata": {},
   "source": [
    "`HackGPT Environment Configuration`"
   ]
  },
  {
   "cell_type": "code",
   "execution_count": 1,
   "metadata": {
    "vscode": {
     "languageId": "python"
    }
   },
   "outputs": [],
   "source": [
    "!pip install -r requirements.txt"
   ]
  },
  {
   "cell_type": "code",
   "execution_count": 2,
   "metadata": {},
   "outputs": [],
   "source": [
    "#@title 2. Setting hackGPT Environment with OpenAI API key (Generate one here: https://platform.openai.com/account/api-keys )\n",
    "#OpenAI API Setup\n",
    "import os\n",
    "import fade\n",
    "import openai\n",
    "from dotenv import load_dotenv\n",
    "\n",
    "load_dotenv()\n",
    "api_key = os.getenv('OPENAI_API_KEY')\n",
    "openai.api_key = api_key"
   ]
  },
  {
   "attachments": {},
   "cell_type": "markdown",
   "metadata": {},
   "source": [
    "`HackGPT Chatbot`"
   ]
  },
  {
   "cell_type": "code",
   "execution_count": null,
   "metadata": {},
   "outputs": [],
   "source": [
    "#@title ChatBot and Web UI for HackGPT\n",
    "#@title 4: This is the Hack button. Press it.\n",
    "import os\n",
    "import fade\n",
    "import openai\n",
    "import requests\n",
    "import json\n",
    "import csv\n",
    "import datetime\n",
    "import gradio as gr\n",
    "import pandas as pd\n",
    "import matplotlib.pyplot as plt\n",
    "from dotenv import load_dotenv\n",
    "from ipywidgets import interact, Dropdown, Select\n",
    "\n",
    "load_dotenv()\n",
    "api_key = os.getenv('OPENAI_API_KEY')\n",
    "openai.api_key = api_key\n",
    "\n",
    "persona = {'HackGPT':['v0','v1 (not active)'],'ChatGPT':['Stock (not active)','DEV (not active)']}\n",
    "personaV = Dropdown(options = persona.keys())\n",
    "\n",
    "def update_persona_options(*args): \n",
    "    personaV.options = persona[personaV.value]\n",
    "\n",
    "personaV.observe(update_persona_options) \n",
    "\n",
    "@interact(Persona = personaV)\n",
    "def print_city(Persona):\n",
    "    if Persona == 'HackGPT':\n",
    "        if versionP.value == 'v0':\n",
    "            hackGPT_mode = open('personas/hackGPTv1.md' ,'r').read()\n",
    "\n",
    "            # ... rest of the code ...\n"
   ]
  }
 ],
 "metadata": {
  "kernelspec": {
   "display_name": "Python 3",
   "language": "python",
   "name": "python3"
  },
  "language_info": {
   "codemirror_mode": {
    "name": "ipython",
    "version": 3
   },
   "file_extension": ".py",
   "mimetype": "text/x-python",
   "name": "python",
   "nbconvert_exporter": "python",
   "pygments_lexer": "ipython3",
   "version": "3.10.8"
  }
 },
 "nbformat": 4,
 "nbformat_minor": 4
}
